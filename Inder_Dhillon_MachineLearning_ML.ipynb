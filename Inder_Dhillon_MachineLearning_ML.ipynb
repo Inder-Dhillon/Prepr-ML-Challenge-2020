{
  "nbformat": 4,
  "nbformat_minor": 0,
  "metadata": {
    "colab": {
      "name": "Inder_Dhillon_MachineLearning_ML.ipynb",
      "provenance": [],
      "authorship_tag": "ABX9TyOJf+BWo1OOaS1qs/Gq5KMu"
    },
    "kernelspec": {
      "name": "python3",
      "display_name": "Python 3"
    }
  },
  "cells": [
    {
      "cell_type": "markdown",
      "metadata": {
        "id": "iDgONKri4Nbs"
      },
      "source": [
        "<img src=\"https://www.inderdhillon.com/files/logo-gray.png\" alt=\"InderDhillon.com\" height=\"120\" width=\"120\">\n",
        "\n",
        "<h1>Prepr ML 2020 - ML</h1><br>\n",
        "<b>Inder Dhillon</b><br>\n",
        "<i>inderdhillon.com</i><br>\n",
        "<hr>"
      ]
    },
    {
      "cell_type": "markdown",
      "metadata": {
        "id": "03h8-E3s4Qlm"
      },
      "source": [
        "Importing Libraries:"
      ]
    },
    {
      "cell_type": "code",
      "metadata": {
        "id": "ql41IIZM5PkR"
      },
      "source": [
        "import pandas as pd\n",
        "import numpy as np\n",
        "import seaborn as sns\n",
        "from fuzzywuzzy import process"
      ],
      "execution_count": 60,
      "outputs": []
    },
    {
      "cell_type": "code",
      "metadata": {
        "id": "jy1y3NKM5Yic"
      },
      "source": [
        "job_skills_df = pd.read_csv(\"job_skills.csv\")"
      ],
      "execution_count": 21,
      "outputs": []
    },
    {
      "cell_type": "code",
      "metadata": {
        "id": "4W2fXi9g7T3K"
      },
      "source": [
        "job_skills_df[\"Title\"] = job_skills_df[\"Title\"].str.split(\",\").str[0]"
      ],
      "execution_count": 22,
      "outputs": []
    },
    {
      "cell_type": "code",
      "metadata": {
        "id": "uVitbDv57Vcj",
        "outputId": "af90a41a-6504-40ef-ca90-e596c04421ff",
        "colab": {
          "base_uri": "https://localhost:8080/",
          "height": 419
        }
      },
      "source": [
        "job_skills_df"
      ],
      "execution_count": 23,
      "outputs": [
        {
          "output_type": "execute_result",
          "data": {
            "text/html": [
              "<div>\n",
              "<style scoped>\n",
              "    .dataframe tbody tr th:only-of-type {\n",
              "        vertical-align: middle;\n",
              "    }\n",
              "\n",
              "    .dataframe tbody tr th {\n",
              "        vertical-align: top;\n",
              "    }\n",
              "\n",
              "    .dataframe thead th {\n",
              "        text-align: right;\n",
              "    }\n",
              "</style>\n",
              "<table border=\"1\" class=\"dataframe\">\n",
              "  <thead>\n",
              "    <tr style=\"text-align: right;\">\n",
              "      <th></th>\n",
              "      <th>Company</th>\n",
              "      <th>Title</th>\n",
              "      <th>Category</th>\n",
              "      <th>Location</th>\n",
              "      <th>Responsibilities</th>\n",
              "      <th>Minimum Qualifications</th>\n",
              "      <th>Preferred Qualifications</th>\n",
              "    </tr>\n",
              "  </thead>\n",
              "  <tbody>\n",
              "    <tr>\n",
              "      <th>0</th>\n",
              "      <td>Google</td>\n",
              "      <td>Google Cloud Program Manager</td>\n",
              "      <td>Program Management</td>\n",
              "      <td>Singapore</td>\n",
              "      <td>Shape, shepherd, ship, and show technical prog...</td>\n",
              "      <td>BA/BS degree or equivalent practical experienc...</td>\n",
              "      <td>Experience in the business technology market a...</td>\n",
              "    </tr>\n",
              "    <tr>\n",
              "      <th>1</th>\n",
              "      <td>Google</td>\n",
              "      <td>Supplier Development Engineer (SDE)</td>\n",
              "      <td>Manufacturing &amp; Supply Chain</td>\n",
              "      <td>Shanghai, China</td>\n",
              "      <td>Drive cross-functional activities in the suppl...</td>\n",
              "      <td>BS degree in an Engineering discipline or equi...</td>\n",
              "      <td>BSEE, BSME or BSIE degree.\\nExperience of usin...</td>\n",
              "    </tr>\n",
              "    <tr>\n",
              "      <th>2</th>\n",
              "      <td>Google</td>\n",
              "      <td>Data Analyst</td>\n",
              "      <td>Technical Solutions</td>\n",
              "      <td>New York, NY, United States</td>\n",
              "      <td>Collect and analyze data to draw insight and i...</td>\n",
              "      <td>Bachelor’s degree in Business, Economics, Stat...</td>\n",
              "      <td>Experience partnering or consulting cross-func...</td>\n",
              "    </tr>\n",
              "    <tr>\n",
              "      <th>3</th>\n",
              "      <td>Google</td>\n",
              "      <td>Developer Advocate</td>\n",
              "      <td>Developer Relations</td>\n",
              "      <td>Mountain View, CA, United States</td>\n",
              "      <td>Work one-on-one with the top Android, iOS, and...</td>\n",
              "      <td>BA/BS degree in Computer Science or equivalent...</td>\n",
              "      <td>Experience as a software developer, architect,...</td>\n",
              "    </tr>\n",
              "    <tr>\n",
              "      <th>4</th>\n",
              "      <td>Google</td>\n",
              "      <td>Program Manager</td>\n",
              "      <td>Program Management</td>\n",
              "      <td>Sunnyvale, CA, United States</td>\n",
              "      <td>Plan requirements with internal customers.\\nPr...</td>\n",
              "      <td>BA/BS degree or equivalent practical experienc...</td>\n",
              "      <td>CTS Certification.\\nExperience in the construc...</td>\n",
              "    </tr>\n",
              "    <tr>\n",
              "      <th>...</th>\n",
              "      <td>...</td>\n",
              "      <td>...</td>\n",
              "      <td>...</td>\n",
              "      <td>...</td>\n",
              "      <td>...</td>\n",
              "      <td>...</td>\n",
              "      <td>...</td>\n",
              "    </tr>\n",
              "    <tr>\n",
              "      <th>1245</th>\n",
              "      <td>Google</td>\n",
              "      <td>Global Investigator</td>\n",
              "      <td>Real Estate &amp; Workplace Services</td>\n",
              "      <td>Boulder, CO, United States</td>\n",
              "      <td>Develop protocols and practices to assess and ...</td>\n",
              "      <td>BA/BS degree or equivalent practical experienc...</td>\n",
              "      <td>Investigative or Interview certification throu...</td>\n",
              "    </tr>\n",
              "    <tr>\n",
              "      <th>1246</th>\n",
              "      <td>Google</td>\n",
              "      <td>Campus Security Manager</td>\n",
              "      <td>Real Estate &amp; Workplace Services</td>\n",
              "      <td>Boulder, CO, United States</td>\n",
              "      <td>Manage the daily operations of the security ve...</td>\n",
              "      <td>BA/BS degree or equivalent practical experienc...</td>\n",
              "      <td>Master’s degree.\\nProficient in the use of com...</td>\n",
              "    </tr>\n",
              "    <tr>\n",
              "      <th>1247</th>\n",
              "      <td>Google</td>\n",
              "      <td>Facilities Manager</td>\n",
              "      <td>Real Estate &amp; Workplace Services</td>\n",
              "      <td>Xinyi District, Taiwan</td>\n",
              "      <td>Collaborate with functional teams; plan and ma...</td>\n",
              "      <td>BA/BS degree or equivalent practical experienc...</td>\n",
              "      <td>Experience managing outsourced facilities serv...</td>\n",
              "    </tr>\n",
              "    <tr>\n",
              "      <th>1248</th>\n",
              "      <td>Google</td>\n",
              "      <td>Physical Security Manager</td>\n",
              "      <td>Real Estate &amp; Workplace Services</td>\n",
              "      <td>Tel Aviv-Yafo, Israel</td>\n",
              "      <td>Partner closely with and offer guidance and co...</td>\n",
              "      <td>BA/BS degree or equivalent practical experienc...</td>\n",
              "      <td>Experience working on international programs.\\...</td>\n",
              "    </tr>\n",
              "    <tr>\n",
              "      <th>1249</th>\n",
              "      <td>Google</td>\n",
              "      <td>Physical Security Manager</td>\n",
              "      <td>Real Estate &amp; Workplace Services</td>\n",
              "      <td>Wrocław, Poland</td>\n",
              "      <td>Partner closely with and offer guidance and co...</td>\n",
              "      <td>BA/BS degree or equivalent practical experienc...</td>\n",
              "      <td>Experience working on international programs.\\...</td>\n",
              "    </tr>\n",
              "  </tbody>\n",
              "</table>\n",
              "<p>1250 rows × 7 columns</p>\n",
              "</div>"
            ],
            "text/plain": [
              "     Company  ...                           Preferred Qualifications\n",
              "0     Google  ...  Experience in the business technology market a...\n",
              "1     Google  ...  BSEE, BSME or BSIE degree.\\nExperience of usin...\n",
              "2     Google  ...  Experience partnering or consulting cross-func...\n",
              "3     Google  ...  Experience as a software developer, architect,...\n",
              "4     Google  ...  CTS Certification.\\nExperience in the construc...\n",
              "...      ...  ...                                                ...\n",
              "1245  Google  ...  Investigative or Interview certification throu...\n",
              "1246  Google  ...  Master’s degree.\\nProficient in the use of com...\n",
              "1247  Google  ...  Experience managing outsourced facilities serv...\n",
              "1248  Google  ...  Experience working on international programs.\\...\n",
              "1249  Google  ...  Experience working on international programs.\\...\n",
              "\n",
              "[1250 rows x 7 columns]"
            ]
          },
          "metadata": {
            "tags": []
          },
          "execution_count": 23
        }
      ]
    },
    {
      "cell_type": "code",
      "metadata": {
        "id": "XtrCOGZaiF0R"
      },
      "source": [
        "employment_df = pd.read_csv(\"Inder_Dhillon_MachineLearning_Employment.csv\")"
      ],
      "execution_count": 65,
      "outputs": []
    },
    {
      "cell_type": "code",
      "metadata": {
        "id": "jNVDiMPBnK83"
      },
      "source": [
        "industries = list(employment_df[\"industry\"].unique())"
      ],
      "execution_count": 66,
      "outputs": []
    },
    {
      "cell_type": "markdown",
      "metadata": {
        "id": "0yu0dRxX4kWf"
      },
      "source": [
        "Using Fuzzy String Matching to match Statistics Canada Industry data to Job Skills Categories:"
      ]
    },
    {
      "cell_type": "code",
      "metadata": {
        "id": "QJksNuzanMTu"
      },
      "source": [
        "industry_matches = job_skills_df[\"Category\"].apply(lambda x: process.extractOne(x, industries))"
      ],
      "execution_count": 90,
      "outputs": []
    },
    {
      "cell_type": "code",
      "metadata": {
        "id": "WiTLELckn1Xk"
      },
      "source": [
        "fuzzy_df = pd.DataFrame()"
      ],
      "execution_count": 76,
      "outputs": []
    },
    {
      "cell_type": "code",
      "metadata": {
        "id": "o0OZ0ciLyMGl"
      },
      "source": [
        "fuzzy_df[\"original_entry\"] = job_skills_df[\"Category\"]"
      ],
      "execution_count": 77,
      "outputs": []
    },
    {
      "cell_type": "code",
      "metadata": {
        "id": "YpfbBG_YooWa",
        "outputId": "877f8457-3395-427a-934a-f7ee091a8dcf",
        "colab": {
          "base_uri": "https://localhost:8080/"
        }
      },
      "source": [
        "fuzzy_df[\"mapped_entry\"], fuzzy_df[\"metric\"]  = job_skills_df[\"Category\"].apply(lambda x: process.extractOne(x, industries)).str"
      ],
      "execution_count": 78,
      "outputs": [
        {
          "output_type": "stream",
          "text": [
            "/usr/local/lib/python3.6/dist-packages/ipykernel_launcher.py:1: FutureWarning: Columnar iteration over characters will be deprecated in future releases.\n",
            "  \"\"\"Entry point for launching an IPython kernel.\n"
          ],
          "name": "stderr"
        }
      ]
    },
    {
      "cell_type": "code",
      "metadata": {
        "id": "W62PMjOPybuA"
      },
      "source": [
        "fuzzy_df.drop_duplicates(inplace=True)\n",
        "fuzzy_df = fuzzy_df.set_index(\"original_entry\")"
      ],
      "execution_count": 88,
      "outputs": []
    },
    {
      "cell_type": "code",
      "metadata": {
        "id": "DI6Ha9LHy037",
        "outputId": "adac80fb-ac9b-4c5a-d041-19f626fd7f34",
        "colab": {
          "base_uri": "https://localhost:8080/",
          "height": 235
        }
      },
      "source": [
        "fuzzy_df.sort_values(\"metric\", ascending=False).head()"
      ],
      "execution_count": 95,
      "outputs": [
        {
          "output_type": "execute_result",
          "data": {
            "text/html": [
              "<div>\n",
              "<style scoped>\n",
              "    .dataframe tbody tr th:only-of-type {\n",
              "        vertical-align: middle;\n",
              "    }\n",
              "\n",
              "    .dataframe tbody tr th {\n",
              "        vertical-align: top;\n",
              "    }\n",
              "\n",
              "    .dataframe thead th {\n",
              "        text-align: right;\n",
              "    }\n",
              "</style>\n",
              "<table border=\"1\" class=\"dataframe\">\n",
              "  <thead>\n",
              "    <tr style=\"text-align: right;\">\n",
              "      <th></th>\n",
              "      <th>mapped_entry</th>\n",
              "      <th>metric</th>\n",
              "    </tr>\n",
              "    <tr>\n",
              "      <th>original_entry</th>\n",
              "      <th></th>\n",
              "      <th></th>\n",
              "    </tr>\n",
              "  </thead>\n",
              "  <tbody>\n",
              "    <tr>\n",
              "      <th>Finance</th>\n",
              "      <td>finance insurance real estate rental and leasi...</td>\n",
              "      <td>90</td>\n",
              "    </tr>\n",
              "    <tr>\n",
              "      <th>Manufacturing &amp; Supply Chain</th>\n",
              "      <td>manufacturing</td>\n",
              "      <td>90</td>\n",
              "    </tr>\n",
              "    <tr>\n",
              "      <th>Technical Infrastructure</th>\n",
              "      <td>professional scientific and technical services</td>\n",
              "      <td>86</td>\n",
              "    </tr>\n",
              "    <tr>\n",
              "      <th>Product &amp; Customer Support</th>\n",
              "      <td>business building and other support services</td>\n",
              "      <td>86</td>\n",
              "    </tr>\n",
              "    <tr>\n",
              "      <th>Technical Writing</th>\n",
              "      <td>professional scientific and technical services</td>\n",
              "      <td>86</td>\n",
              "    </tr>\n",
              "  </tbody>\n",
              "</table>\n",
              "</div>"
            ],
            "text/plain": [
              "                                                                   mapped_entry  metric\n",
              "original_entry                                                                         \n",
              "Finance                       finance insurance real estate rental and leasi...      90\n",
              "Manufacturing & Supply Chain                                     manufacturing       90\n",
              "Technical Infrastructure        professional scientific and technical services       86\n",
              "Product & Customer Support       business building and other support services        86\n",
              "Technical Writing               professional scientific and technical services       86"
            ]
          },
          "metadata": {
            "tags": []
          },
          "execution_count": 95
        }
      ]
    },
    {
      "cell_type": "markdown",
      "metadata": {
        "id": "_vqdzJeK4uni"
      },
      "source": [
        "Due to lack of time, I couldn't work more on the ML part of things :("
      ]
    }
  ]
}